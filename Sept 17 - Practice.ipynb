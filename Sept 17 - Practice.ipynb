{
 "cells": [
  {
   "cell_type": "code",
   "execution_count": 3,
   "id": "33902b25",
   "metadata": {},
   "outputs": [
    {
     "data": {
      "text/plain": [
       "20"
      ]
     },
     "execution_count": 3,
     "metadata": {},
     "output_type": "execute_result"
    }
   ],
   "source": [
    "import random\n",
    "random.randint(10,20)"
   ]
  },
  {
   "cell_type": "code",
   "execution_count": 4,
   "id": "b83d81b4",
   "metadata": {},
   "outputs": [
    {
     "name": "stdout",
     "output_type": "stream",
     "text": [
      "[65, 27, 27, 25, 54, 70, 24, 49, 41, 53]\n"
     ]
    }
   ],
   "source": [
    "import random\n",
    "data=[]\n",
    "\n",
    "for _ in range(10):\n",
    "    random_number=random.randint(20,70)\n",
    "    data.append(random_number)\n",
    "    \n",
    "print(data)"
   ]
  },
  {
   "cell_type": "code",
   "execution_count": null,
   "id": "4b4d1332",
   "metadata": {},
   "outputs": [],
   "source": []
  },
  {
   "cell_type": "code",
   "execution_count": 5,
   "id": "33d0efa7",
   "metadata": {},
   "outputs": [
    {
     "data": {
      "text/html": [
       "<div>\n",
       "<style scoped>\n",
       "    .dataframe tbody tr th:only-of-type {\n",
       "        vertical-align: middle;\n",
       "    }\n",
       "\n",
       "    .dataframe tbody tr th {\n",
       "        vertical-align: top;\n",
       "    }\n",
       "\n",
       "    .dataframe thead th {\n",
       "        text-align: right;\n",
       "    }\n",
       "</style>\n",
       "<table border=\"1\" class=\"dataframe\">\n",
       "  <thead>\n",
       "    <tr style=\"text-align: right;\">\n",
       "      <th></th>\n",
       "      <th>sepal_length</th>\n",
       "      <th>sepal_width</th>\n",
       "      <th>petal_length</th>\n",
       "      <th>petal_width</th>\n",
       "      <th>species</th>\n",
       "    </tr>\n",
       "  </thead>\n",
       "  <tbody>\n",
       "    <tr>\n",
       "      <th>0</th>\n",
       "      <td>5.1</td>\n",
       "      <td>3.5</td>\n",
       "      <td>1.4</td>\n",
       "      <td>0.2</td>\n",
       "      <td>setosa</td>\n",
       "    </tr>\n",
       "    <tr>\n",
       "      <th>1</th>\n",
       "      <td>4.9</td>\n",
       "      <td>3.0</td>\n",
       "      <td>1.4</td>\n",
       "      <td>0.2</td>\n",
       "      <td>setosa</td>\n",
       "    </tr>\n",
       "    <tr>\n",
       "      <th>2</th>\n",
       "      <td>4.7</td>\n",
       "      <td>3.2</td>\n",
       "      <td>1.3</td>\n",
       "      <td>0.2</td>\n",
       "      <td>setosa</td>\n",
       "    </tr>\n",
       "    <tr>\n",
       "      <th>3</th>\n",
       "      <td>4.6</td>\n",
       "      <td>3.1</td>\n",
       "      <td>1.5</td>\n",
       "      <td>0.2</td>\n",
       "      <td>setosa</td>\n",
       "    </tr>\n",
       "    <tr>\n",
       "      <th>4</th>\n",
       "      <td>5.0</td>\n",
       "      <td>3.6</td>\n",
       "      <td>1.4</td>\n",
       "      <td>0.2</td>\n",
       "      <td>setosa</td>\n",
       "    </tr>\n",
       "  </tbody>\n",
       "</table>\n",
       "</div>"
      ],
      "text/plain": [
       "   sepal_length  sepal_width  petal_length  petal_width species\n",
       "0           5.1          3.5           1.4          0.2  setosa\n",
       "1           4.9          3.0           1.4          0.2  setosa\n",
       "2           4.7          3.2           1.3          0.2  setosa\n",
       "3           4.6          3.1           1.5          0.2  setosa\n",
       "4           5.0          3.6           1.4          0.2  setosa"
      ]
     },
     "execution_count": 5,
     "metadata": {},
     "output_type": "execute_result"
    }
   ],
   "source": [
    "import pandas as pd\n",
    "data2=pd.read_csv(\"iris.csv\")\n",
    "\n",
    "data2.head()\n"
   ]
  },
  {
   "cell_type": "code",
   "execution_count": 6,
   "id": "f3439715",
   "metadata": {},
   "outputs": [],
   "source": [
    "data3=pd.read_csv(\"titanic_train.csv\")"
   ]
  },
  {
   "cell_type": "code",
   "execution_count": 7,
   "id": "b9f72a90",
   "metadata": {},
   "outputs": [
    {
     "data": {
      "text/html": [
       "<div>\n",
       "<style scoped>\n",
       "    .dataframe tbody tr th:only-of-type {\n",
       "        vertical-align: middle;\n",
       "    }\n",
       "\n",
       "    .dataframe tbody tr th {\n",
       "        vertical-align: top;\n",
       "    }\n",
       "\n",
       "    .dataframe thead th {\n",
       "        text-align: right;\n",
       "    }\n",
       "</style>\n",
       "<table border=\"1\" class=\"dataframe\">\n",
       "  <thead>\n",
       "    <tr style=\"text-align: right;\">\n",
       "      <th></th>\n",
       "      <th>PassengerId</th>\n",
       "      <th>Survived</th>\n",
       "      <th>Pclass</th>\n",
       "      <th>Name</th>\n",
       "      <th>Sex</th>\n",
       "      <th>Age</th>\n",
       "      <th>SibSp</th>\n",
       "      <th>Parch</th>\n",
       "      <th>Ticket</th>\n",
       "      <th>Fare</th>\n",
       "      <th>Cabin</th>\n",
       "      <th>Embarked</th>\n",
       "    </tr>\n",
       "  </thead>\n",
       "  <tbody>\n",
       "    <tr>\n",
       "      <th>0</th>\n",
       "      <td>1</td>\n",
       "      <td>0</td>\n",
       "      <td>3</td>\n",
       "      <td>Braund, Mr. Owen Harris</td>\n",
       "      <td>male</td>\n",
       "      <td>22.0</td>\n",
       "      <td>1</td>\n",
       "      <td>0</td>\n",
       "      <td>A/5 21171</td>\n",
       "      <td>7.2500</td>\n",
       "      <td>NaN</td>\n",
       "      <td>S</td>\n",
       "    </tr>\n",
       "    <tr>\n",
       "      <th>1</th>\n",
       "      <td>2</td>\n",
       "      <td>1</td>\n",
       "      <td>1</td>\n",
       "      <td>Cumings, Mrs. John Bradley (Florence Briggs Th...</td>\n",
       "      <td>female</td>\n",
       "      <td>38.0</td>\n",
       "      <td>1</td>\n",
       "      <td>0</td>\n",
       "      <td>PC 17599</td>\n",
       "      <td>71.2833</td>\n",
       "      <td>C85</td>\n",
       "      <td>C</td>\n",
       "    </tr>\n",
       "    <tr>\n",
       "      <th>2</th>\n",
       "      <td>3</td>\n",
       "      <td>1</td>\n",
       "      <td>3</td>\n",
       "      <td>Heikkinen, Miss. Laina</td>\n",
       "      <td>female</td>\n",
       "      <td>26.0</td>\n",
       "      <td>0</td>\n",
       "      <td>0</td>\n",
       "      <td>STON/O2. 3101282</td>\n",
       "      <td>7.9250</td>\n",
       "      <td>NaN</td>\n",
       "      <td>S</td>\n",
       "    </tr>\n",
       "    <tr>\n",
       "      <th>3</th>\n",
       "      <td>4</td>\n",
       "      <td>1</td>\n",
       "      <td>1</td>\n",
       "      <td>Futrelle, Mrs. Jacques Heath (Lily May Peel)</td>\n",
       "      <td>female</td>\n",
       "      <td>35.0</td>\n",
       "      <td>1</td>\n",
       "      <td>0</td>\n",
       "      <td>113803</td>\n",
       "      <td>53.1000</td>\n",
       "      <td>C123</td>\n",
       "      <td>S</td>\n",
       "    </tr>\n",
       "    <tr>\n",
       "      <th>4</th>\n",
       "      <td>5</td>\n",
       "      <td>0</td>\n",
       "      <td>3</td>\n",
       "      <td>Allen, Mr. William Henry</td>\n",
       "      <td>male</td>\n",
       "      <td>35.0</td>\n",
       "      <td>0</td>\n",
       "      <td>0</td>\n",
       "      <td>373450</td>\n",
       "      <td>8.0500</td>\n",
       "      <td>NaN</td>\n",
       "      <td>S</td>\n",
       "    </tr>\n",
       "  </tbody>\n",
       "</table>\n",
       "</div>"
      ],
      "text/plain": [
       "   PassengerId  Survived  Pclass  \\\n",
       "0            1         0       3   \n",
       "1            2         1       1   \n",
       "2            3         1       3   \n",
       "3            4         1       1   \n",
       "4            5         0       3   \n",
       "\n",
       "                                                Name     Sex   Age  SibSp  \\\n",
       "0                            Braund, Mr. Owen Harris    male  22.0      1   \n",
       "1  Cumings, Mrs. John Bradley (Florence Briggs Th...  female  38.0      1   \n",
       "2                             Heikkinen, Miss. Laina  female  26.0      0   \n",
       "3       Futrelle, Mrs. Jacques Heath (Lily May Peel)  female  35.0      1   \n",
       "4                           Allen, Mr. William Henry    male  35.0      0   \n",
       "\n",
       "   Parch            Ticket     Fare Cabin Embarked  \n",
       "0      0         A/5 21171   7.2500   NaN        S  \n",
       "1      0          PC 17599  71.2833   C85        C  \n",
       "2      0  STON/O2. 3101282   7.9250   NaN        S  \n",
       "3      0            113803  53.1000  C123        S  \n",
       "4      0            373450   8.0500   NaN        S  "
      ]
     },
     "execution_count": 7,
     "metadata": {},
     "output_type": "execute_result"
    }
   ],
   "source": [
    "data3.head()"
   ]
  },
  {
   "cell_type": "code",
   "execution_count": 8,
   "id": "70b91818",
   "metadata": {},
   "outputs": [
    {
     "data": {
      "text/plain": [
       "[65, 27, 27, 25, 54, 70, 24, 49, 41, 53]"
      ]
     },
     "execution_count": 8,
     "metadata": {},
     "output_type": "execute_result"
    }
   ],
   "source": [
    "data"
   ]
  },
  {
   "cell_type": "code",
   "execution_count": 9,
   "id": "fca1a6fb",
   "metadata": {},
   "outputs": [],
   "source": [
    "data_copy=data.copy()"
   ]
  },
  {
   "cell_type": "code",
   "execution_count": 10,
   "id": "39be5861",
   "metadata": {},
   "outputs": [
    {
     "data": {
      "text/plain": [
       "43.5"
      ]
     },
     "execution_count": 10,
     "metadata": {},
     "output_type": "execute_result"
    }
   ],
   "source": [
    "import numpy as np\n",
    "np.mean(data_copy)"
   ]
  },
  {
   "cell_type": "code",
   "execution_count": 11,
   "id": "d91bf7a7",
   "metadata": {},
   "outputs": [
    {
     "data": {
      "text/plain": [
       "45.0"
      ]
     },
     "execution_count": 11,
     "metadata": {},
     "output_type": "execute_result"
    }
   ],
   "source": [
    "np.median(data_copy)"
   ]
  },
  {
   "cell_type": "code",
   "execution_count": 12,
   "id": "f7679372",
   "metadata": {},
   "outputs": [
    {
     "data": {
      "text/plain": [
       "0      5.1\n",
       "1      4.9\n",
       "2      4.7\n",
       "3      4.6\n",
       "4      5.0\n",
       "      ... \n",
       "145    6.7\n",
       "146    6.3\n",
       "147    6.5\n",
       "148    6.2\n",
       "149    5.9\n",
       "Name: sepal_length, Length: 150, dtype: float64"
      ]
     },
     "execution_count": 12,
     "metadata": {},
     "output_type": "execute_result"
    }
   ],
   "source": [
    "data2.sepal_length"
   ]
  },
  {
   "cell_type": "code",
   "execution_count": 13,
   "id": "2e421d4d",
   "metadata": {},
   "outputs": [
    {
     "data": {
      "text/plain": [
       "5.843333333333334"
      ]
     },
     "execution_count": 13,
     "metadata": {},
     "output_type": "execute_result"
    }
   ],
   "source": [
    "np.mean(data2.sepal_length)"
   ]
  },
  {
   "cell_type": "code",
   "execution_count": 14,
   "id": "51e54c4b",
   "metadata": {},
   "outputs": [
    {
     "data": {
      "text/plain": [
       "0      5.1\n",
       "1      4.9\n",
       "2      4.7\n",
       "3      4.6\n",
       "4      5.0\n",
       "      ... \n",
       "145    6.7\n",
       "146    6.3\n",
       "147    6.5\n",
       "148    6.2\n",
       "149    5.9\n",
       "Name: sepal_length, Length: 150, dtype: float64"
      ]
     },
     "execution_count": 14,
     "metadata": {},
     "output_type": "execute_result"
    }
   ],
   "source": [
    "data2[\"sepal_length\"]"
   ]
  },
  {
   "cell_type": "code",
   "execution_count": 15,
   "id": "547d3e20",
   "metadata": {},
   "outputs": [
    {
     "data": {
      "text/plain": [
       "0      22.0\n",
       "1      38.0\n",
       "2      26.0\n",
       "3      35.0\n",
       "4      35.0\n",
       "       ... \n",
       "886    27.0\n",
       "887    19.0\n",
       "888     NaN\n",
       "889    26.0\n",
       "890    32.0\n",
       "Name: Age, Length: 891, dtype: float64"
      ]
     },
     "execution_count": 15,
     "metadata": {},
     "output_type": "execute_result"
    }
   ],
   "source": [
    "data3.Age"
   ]
  },
  {
   "cell_type": "code",
   "execution_count": 16,
   "id": "5f2757e1",
   "metadata": {},
   "outputs": [
    {
     "data": {
      "text/plain": [
       "0      22.0\n",
       "1      38.0\n",
       "2      26.0\n",
       "3      35.0\n",
       "4      35.0\n",
       "       ... \n",
       "886    27.0\n",
       "887    19.0\n",
       "888     NaN\n",
       "889    26.0\n",
       "890    32.0\n",
       "Name: Age, Length: 891, dtype: float64"
      ]
     },
     "execution_count": 16,
     "metadata": {},
     "output_type": "execute_result"
    }
   ],
   "source": [
    "data3[\"Age\"]"
   ]
  },
  {
   "cell_type": "code",
   "execution_count": 17,
   "id": "4318b60b",
   "metadata": {},
   "outputs": [
    {
     "data": {
      "text/plain": [
       "29.69911764705882"
      ]
     },
     "execution_count": 17,
     "metadata": {},
     "output_type": "execute_result"
    }
   ],
   "source": [
    "np.mean(data3[\"Age\"])"
   ]
  },
  {
   "cell_type": "code",
   "execution_count": 18,
   "id": "21ddae8c",
   "metadata": {},
   "outputs": [
    {
     "data": {
      "text/plain": [
       "nan"
      ]
     },
     "execution_count": 18,
     "metadata": {},
     "output_type": "execute_result"
    }
   ],
   "source": [
    "np.median(data3[\"Age\"])"
   ]
  },
  {
   "cell_type": "code",
   "execution_count": 19,
   "id": "3b2830e1",
   "metadata": {},
   "outputs": [
    {
     "data": {
      "text/plain": [
       "(891, 12)"
      ]
     },
     "execution_count": 19,
     "metadata": {},
     "output_type": "execute_result"
    }
   ],
   "source": [
    "data3.shape\n"
   ]
  },
  {
   "cell_type": "code",
   "execution_count": 20,
   "id": "266e5b8d",
   "metadata": {},
   "outputs": [
    {
     "name": "stdout",
     "output_type": "stream",
     "text": [
      "<class 'pandas.core.frame.DataFrame'>\n",
      "RangeIndex: 891 entries, 0 to 890\n",
      "Data columns (total 12 columns):\n",
      " #   Column       Non-Null Count  Dtype  \n",
      "---  ------       --------------  -----  \n",
      " 0   PassengerId  891 non-null    int64  \n",
      " 1   Survived     891 non-null    int64  \n",
      " 2   Pclass       891 non-null    int64  \n",
      " 3   Name         891 non-null    object \n",
      " 4   Sex          891 non-null    object \n",
      " 5   Age          714 non-null    float64\n",
      " 6   SibSp        891 non-null    int64  \n",
      " 7   Parch        891 non-null    int64  \n",
      " 8   Ticket       891 non-null    object \n",
      " 9   Fare         891 non-null    float64\n",
      " 10  Cabin        204 non-null    object \n",
      " 11  Embarked     889 non-null    object \n",
      "dtypes: float64(2), int64(5), object(5)\n",
      "memory usage: 83.7+ KB\n"
     ]
    }
   ],
   "source": [
    "data3.info()"
   ]
  },
  {
   "cell_type": "code",
   "execution_count": 21,
   "id": "a5289a75",
   "metadata": {},
   "outputs": [
    {
     "data": {
      "text/plain": [
       "105"
      ]
     },
     "execution_count": 21,
     "metadata": {},
     "output_type": "execute_result"
    }
   ],
   "source": [
    "819-714"
   ]
  },
  {
   "cell_type": "code",
   "execution_count": 22,
   "id": "9ffbd5f4",
   "metadata": {
    "scrolled": true
   },
   "outputs": [
    {
     "data": {
      "text/plain": [
       "[65, 27, 27, 25, 54, 70, 24, 49, 41, 53]"
      ]
     },
     "execution_count": 22,
     "metadata": {},
     "output_type": "execute_result"
    }
   ],
   "source": [
    "data_copy"
   ]
  },
  {
   "cell_type": "code",
   "execution_count": 23,
   "id": "d9874880",
   "metadata": {},
   "outputs": [],
   "source": [
    "data_copy2=data_copy.copy()"
   ]
  },
  {
   "cell_type": "code",
   "execution_count": 24,
   "id": "dc9eb006",
   "metadata": {},
   "outputs": [
    {
     "data": {
      "text/plain": [
       "27"
      ]
     },
     "execution_count": 24,
     "metadata": {},
     "output_type": "execute_result"
    }
   ],
   "source": [
    "import statistics\n",
    "statistics.mode(data_copy)"
   ]
  },
  {
   "cell_type": "code",
   "execution_count": 25,
   "id": "3265e2e2",
   "metadata": {},
   "outputs": [],
   "source": [
    "data_copy2.append(49)\n",
    "data_copy2.append(49)"
   ]
  },
  {
   "cell_type": "code",
   "execution_count": 26,
   "id": "d553dec7",
   "metadata": {},
   "outputs": [
    {
     "data": {
      "text/plain": [
       "49"
      ]
     },
     "execution_count": 26,
     "metadata": {},
     "output_type": "execute_result"
    }
   ],
   "source": [
    "statistics.mode(data_copy2)"
   ]
  },
  {
   "cell_type": "code",
   "execution_count": 27,
   "id": "f6bed805",
   "metadata": {},
   "outputs": [
    {
     "name": "stderr",
     "output_type": "stream",
     "text": [
      "C:\\Users\\Upasana\\AppData\\Local\\Temp\\ipykernel_35368\\3125682885.py:2: FutureWarning: Unlike other reduction functions (e.g. `skew`, `kurtosis`), the default behavior of `mode` typically preserves the axis it acts along. In SciPy 1.11.0, this behavior will change: the default value of `keepdims` will become False, the `axis` over which the statistic is taken will be eliminated, and the value None will no longer be accepted. Set `keepdims` to True or False to avoid this warning.\n",
      "  st.mode(data_copy2)\n"
     ]
    },
    {
     "data": {
      "text/plain": [
       "ModeResult(mode=array([49]), count=array([3]))"
      ]
     },
     "execution_count": 27,
     "metadata": {},
     "output_type": "execute_result"
    }
   ],
   "source": [
    "from scipy import stats as st\n",
    "st.mode(data_copy2)"
   ]
  },
  {
   "cell_type": "code",
   "execution_count": 28,
   "id": "3c5e400f",
   "metadata": {},
   "outputs": [
    {
     "data": {
      "text/plain": [
       "[65, 27, 27, 25, 54, 70, 24, 49, 41, 53]"
      ]
     },
     "execution_count": 28,
     "metadata": {},
     "output_type": "execute_result"
    }
   ],
   "source": [
    "data_copy"
   ]
  },
  {
   "cell_type": "code",
   "execution_count": 29,
   "id": "f89ca556",
   "metadata": {},
   "outputs": [
    {
     "data": {
      "text/plain": [
       "[65, 27, 27, 25, 54, 70, 24, 49, 41, 53]"
      ]
     },
     "execution_count": 29,
     "metadata": {},
     "output_type": "execute_result"
    }
   ],
   "source": [
    "data"
   ]
  },
  {
   "cell_type": "code",
   "execution_count": 30,
   "id": "9c85c0f6",
   "metadata": {},
   "outputs": [
    {
     "data": {
      "text/plain": [
       "43.5"
      ]
     },
     "execution_count": 30,
     "metadata": {},
     "output_type": "execute_result"
    }
   ],
   "source": [
    "np.mean(data_copy)"
   ]
  },
  {
   "cell_type": "code",
   "execution_count": 31,
   "id": "4a82d2ea",
   "metadata": {},
   "outputs": [
    {
     "name": "stdout",
     "output_type": "stream",
     "text": [
      "43.5\n"
     ]
    }
   ],
   "source": [
    "def cal_mean(data):\n",
    "    sum=0\n",
    "    for i in data:\n",
    "        sum=sum+i\n",
    "    mean=sum/len(data)\n",
    "    return mean\n",
    "    \n",
    "print(cal_mean(data_copy))"
   ]
  },
  {
   "cell_type": "code",
   "execution_count": 32,
   "id": "b677f12a",
   "metadata": {},
   "outputs": [
    {
     "data": {
      "text/plain": [
       "[65, 27, 27, 25, 54, 70, 24, 49, 41, 53]"
      ]
     },
     "execution_count": 32,
     "metadata": {},
     "output_type": "execute_result"
    }
   ],
   "source": [
    "data"
   ]
  },
  {
   "cell_type": "code",
   "execution_count": 33,
   "id": "cc2715a1",
   "metadata": {},
   "outputs": [
    {
     "data": {
      "text/plain": [
       "[65, 27, 27, 25, 54, 70, 24, 49, 41, 53]"
      ]
     },
     "execution_count": 33,
     "metadata": {},
     "output_type": "execute_result"
    }
   ],
   "source": [
    "data_copy"
   ]
  },
  {
   "cell_type": "code",
   "execution_count": 34,
   "id": "f503b6a8",
   "metadata": {},
   "outputs": [],
   "source": [
    "data_copy.append(200)"
   ]
  },
  {
   "cell_type": "code",
   "execution_count": 35,
   "id": "77c18e9d",
   "metadata": {},
   "outputs": [
    {
     "data": {
      "text/plain": [
       "[65, 27, 27, 25, 54, 70, 24, 49, 41, 53, 200]"
      ]
     },
     "execution_count": 35,
     "metadata": {},
     "output_type": "execute_result"
    }
   ],
   "source": [
    "data_copy"
   ]
  },
  {
   "cell_type": "code",
   "execution_count": null,
   "id": "ccf34d1a",
   "metadata": {},
   "outputs": [],
   "source": []
  },
  {
   "cell_type": "code",
   "execution_count": 36,
   "id": "c383a5e0",
   "metadata": {},
   "outputs": [
    {
     "data": {
      "text/plain": [
       "43.5"
      ]
     },
     "execution_count": 36,
     "metadata": {},
     "output_type": "execute_result"
    }
   ],
   "source": [
    "np.mean(data)"
   ]
  },
  {
   "cell_type": "code",
   "execution_count": 37,
   "id": "3dcda785",
   "metadata": {},
   "outputs": [
    {
     "data": {
      "text/plain": [
       "45.0"
      ]
     },
     "execution_count": 37,
     "metadata": {},
     "output_type": "execute_result"
    }
   ],
   "source": [
    "np.median(data)"
   ]
  },
  {
   "cell_type": "code",
   "execution_count": 38,
   "id": "4918b75a",
   "metadata": {},
   "outputs": [
    {
     "data": {
      "text/plain": [
       "57.72727272727273"
      ]
     },
     "execution_count": 38,
     "metadata": {},
     "output_type": "execute_result"
    }
   ],
   "source": [
    "np.mean(data_copy)"
   ]
  },
  {
   "cell_type": "code",
   "execution_count": 39,
   "id": "3ffe7677",
   "metadata": {},
   "outputs": [
    {
     "data": {
      "text/plain": [
       "49.0"
      ]
     },
     "execution_count": 39,
     "metadata": {},
     "output_type": "execute_result"
    }
   ],
   "source": [
    "np.median(data_copy)"
   ]
  },
  {
   "cell_type": "code",
   "execution_count": 76,
   "id": "b0693b4a",
   "metadata": {},
   "outputs": [],
   "source": [
    "# use median whenever there is an outlier\n"
   ]
  },
  {
   "cell_type": "code",
   "execution_count": 40,
   "id": "b513ace9",
   "metadata": {},
   "outputs": [
    {
     "data": {
      "text/plain": [
       "<Axes: ylabel='Count'>"
      ]
     },
     "execution_count": 40,
     "metadata": {},
     "output_type": "execute_result"
    },
    {
     "data": {
      "image/png": "[encoded data removed]",
      "text/plain": [
       "<Figure size 640x480 with 1 Axes>"
      ]
     },
     "metadata": {},
     "output_type": "display_data"
    }
   ],
   "source": [
    "import seaborn as sns\n",
    "sns.histplot(data,kde=True)"
   ]
  },
  {
   "cell_type": "code",
   "execution_count": 41,
   "id": "03e38004",
   "metadata": {},
   "outputs": [
    {
     "data": {
      "text/plain": [
       "<Axes: ylabel='Count'>"
      ]
     },
     "execution_count": 41,
     "metadata": {},
     "output_type": "execute_result"
    },
    {
     "data": {
      "image/png": "[encoded data removed]",
      "text/plain": [
       "<Figure size 640x480 with 1 Axes>"
      ]
     },
     "metadata": {},
     "output_type": "display_data"
    }
   ],
   "source": [
    "import seaborn as sns\n",
    "sns.histplot(data_copy,kde=True)"
   ]
  },
  {
   "cell_type": "code",
   "execution_count": null,
   "id": "ff8dc150",
   "metadata": {},
   "outputs": [],
   "source": [
    "# this shows data is right skewed\n"
   ]
  },
  {
   "cell_type": "code",
   "execution_count": null,
   "id": "d3e8b77f",
   "metadata": {},
   "outputs": [],
   "source": [
    "# kde -- give the probability distribution curve in the histplot\n"
   ]
  },
  {
   "cell_type": "code",
   "execution_count": 48,
   "id": "4084e649",
   "metadata": {},
   "outputs": [
    {
     "data": {
      "text/plain": [
       "array([27.])"
      ]
     },
     "execution_count": 48,
     "metadata": {},
     "output_type": "execute_result"
    }
   ],
   "source": [
    "np.percentile(data_copy, [25])"
   ]
  },
  {
   "cell_type": "code",
   "execution_count": 43,
   "id": "39ac84c2",
   "metadata": {},
   "outputs": [],
   "source": [
    "q1,q2,q3,q4=np.percentile(data_copy,[25,50,75,100])"
   ]
  },
  {
   "cell_type": "code",
   "execution_count": 49,
   "id": "a1d90282",
   "metadata": {},
   "outputs": [
    {
     "data": {
      "text/plain": [
       "array([27.])"
      ]
     },
     "execution_count": 49,
     "metadata": {},
     "output_type": "execute_result"
    }
   ],
   "source": [
    "q1"
   ]
  },
  {
   "cell_type": "code",
   "execution_count": null,
   "id": "1278ceb7",
   "metadata": {},
   "outputs": [],
   "source": [
    "IQR = inter quartile range"
   ]
  },
  {
   "cell_type": "code",
   "execution_count": 51,
   "id": "ae20ffa4",
   "metadata": {},
   "outputs": [],
   "source": [
    "IQR=q3-q1"
   ]
  },
  {
   "cell_type": "code",
   "execution_count": 54,
   "id": "f5ecf80d",
   "metadata": {},
   "outputs": [],
   "source": [
    "lower_fence=q1-(IQR*1.5)\n",
    "upper_fence=q3+(IQR*1.5)"
   ]
  },
  {
   "cell_type": "code",
   "execution_count": 55,
   "id": "340db244",
   "metadata": {},
   "outputs": [
    {
     "data": {
      "text/plain": [
       "array([-21.75])"
      ]
     },
     "execution_count": 55,
     "metadata": {},
     "output_type": "execute_result"
    }
   ],
   "source": [
    "lower_fence"
   ]
  },
  {
   "cell_type": "code",
   "execution_count": 56,
   "id": "68c8148c",
   "metadata": {},
   "outputs": [
    {
     "data": {
      "text/plain": [
       "array([108.25])"
      ]
     },
     "execution_count": 56,
     "metadata": {},
     "output_type": "execute_result"
    }
   ],
   "source": [
    "upper_fence"
   ]
  },
  {
   "cell_type": "code",
   "execution_count": 59,
   "id": "79b8cc4a",
   "metadata": {},
   "outputs": [],
   "source": [
    "data_copy.sort()"
   ]
  },
  {
   "cell_type": "code",
   "execution_count": 60,
   "id": "dbaf5bec",
   "metadata": {},
   "outputs": [
    {
     "data": {
      "text/plain": [
       "[24, 25, 27, 27, 41, 49, 53, 54, 65, 70, 200]"
      ]
     },
     "execution_count": 60,
     "metadata": {},
     "output_type": "execute_result"
    }
   ],
   "source": [
    "data_copy"
   ]
  },
  {
   "cell_type": "code",
   "execution_count": 95,
   "id": "22a54e90",
   "metadata": {},
   "outputs": [],
   "source": [
    "\n",
    "newdata_copy=[11,12,13,16,16,17,18,21,22,30]\n"
   ]
  },
  {
   "cell_type": "code",
   "execution_count": 97,
   "id": "6ce5ff1a",
   "metadata": {},
   "outputs": [],
   "source": [
    "import numpy as np\n",
    "q1,q2,q3,q4=np.percentile(newdata_copy,[25,50,75,100])"
   ]
  },
  {
   "cell_type": "code",
   "execution_count": 98,
   "id": "55a30a89",
   "metadata": {},
   "outputs": [
    {
     "data": {
      "text/plain": [
       "13.75"
      ]
     },
     "execution_count": 98,
     "metadata": {},
     "output_type": "execute_result"
    }
   ],
   "source": [
    "q1"
   ]
  },
  {
   "cell_type": "code",
   "execution_count": 99,
   "id": "eb491327",
   "metadata": {},
   "outputs": [
    {
     "data": {
      "text/plain": [
       "16.5"
      ]
     },
     "execution_count": 99,
     "metadata": {},
     "output_type": "execute_result"
    }
   ],
   "source": [
    "q2"
   ]
  },
  {
   "cell_type": "code",
   "execution_count": 100,
   "id": "c970306d",
   "metadata": {},
   "outputs": [
    {
     "data": {
      "text/plain": [
       "20.25"
      ]
     },
     "execution_count": 100,
     "metadata": {},
     "output_type": "execute_result"
    }
   ],
   "source": [
    "q3"
   ]
  },
  {
   "cell_type": "code",
   "execution_count": 101,
   "id": "65be5442",
   "metadata": {},
   "outputs": [
    {
     "data": {
      "text/plain": [
       "30.0"
      ]
     },
     "execution_count": 101,
     "metadata": {},
     "output_type": "execute_result"
    }
   ],
   "source": [
    "q4"
   ]
  },
  {
   "cell_type": "code",
   "execution_count": 74,
   "id": "ec381074",
   "metadata": {},
   "outputs": [
    {
     "data": {
      "text/plain": [
       "<Axes: >"
      ]
     },
     "execution_count": 74,
     "metadata": {},
     "output_type": "execute_result"
    },
    {
     "data": {
      "image/png": "[encoded data removed]",
      "text/plain": [
       "<Figure size 640x480 with 1 Axes>"
      ]
     },
     "metadata": {},
     "output_type": "display_data"
    }
   ],
   "source": [
    "sns.boxplot(newdata_copy)"
   ]
  },
  {
   "cell_type": "code",
   "execution_count": 102,
   "id": "b79bc1a4",
   "metadata": {},
   "outputs": [],
   "source": [
    "IQR=q3-q1"
   ]
  },
  {
   "cell_type": "code",
   "execution_count": 103,
   "id": "c87d8936",
   "metadata": {},
   "outputs": [],
   "source": [
    "lower_fence=q1-(IQR*1.5)\n",
    "upper_fence=q3+(IQR*1.5)"
   ]
  },
  {
   "cell_type": "code",
   "execution_count": 104,
   "id": "4659e513",
   "metadata": {},
   "outputs": [
    {
     "data": {
      "text/plain": [
       "4.0"
      ]
     },
     "execution_count": 104,
     "metadata": {},
     "output_type": "execute_result"
    }
   ],
   "source": [
    "lower_fence"
   ]
  },
  {
   "cell_type": "code",
   "execution_count": 105,
   "id": "ffde2b8b",
   "metadata": {},
   "outputs": [
    {
     "data": {
      "text/plain": [
       "30.0"
      ]
     },
     "execution_count": 105,
     "metadata": {},
     "output_type": "execute_result"
    }
   ],
   "source": [
    "upper_fence"
   ]
  },
  {
   "cell_type": "code",
   "execution_count": 106,
   "id": "a41dd4cb",
   "metadata": {},
   "outputs": [],
   "source": [
    "newdata_copy.append(50)"
   ]
  },
  {
   "cell_type": "code",
   "execution_count": 107,
   "id": "2987fe20",
   "metadata": {},
   "outputs": [
    {
     "data": {
      "text/plain": [
       "[11, 12, 13, 16, 16, 17, 18, 21, 22, 30, 50]"
      ]
     },
     "execution_count": 107,
     "metadata": {},
     "output_type": "execute_result"
    }
   ],
   "source": [
    "newdata_copy"
   ]
  },
  {
   "cell_type": "code",
   "execution_count": 89,
   "id": "a3e99e81",
   "metadata": {},
   "outputs": [
    {
     "data": {
      "text/plain": [
       "50"
      ]
     },
     "execution_count": 89,
     "metadata": {},
     "output_type": "execute_result"
    }
   ],
   "source": [
    "newdata_copy.pop(10)"
   ]
  },
  {
   "cell_type": "code",
   "execution_count": 108,
   "id": "762d668f",
   "metadata": {},
   "outputs": [
    {
     "data": {
      "text/plain": [
       "30"
      ]
     },
     "execution_count": 108,
     "metadata": {},
     "output_type": "execute_result"
    }
   ],
   "source": [
    "newdata_copy.pop(9)"
   ]
  },
  {
   "cell_type": "code",
   "execution_count": 92,
   "id": "7fd068b7",
   "metadata": {},
   "outputs": [],
   "source": [
    "newdata_copy.append(30)"
   ]
  },
  {
   "cell_type": "code",
   "execution_count": 109,
   "id": "fba914fb",
   "metadata": {},
   "outputs": [
    {
     "data": {
      "text/plain": [
       "[11, 12, 13, 16, 16, 17, 18, 21, 22, 50]"
      ]
     },
     "execution_count": 109,
     "metadata": {},
     "output_type": "execute_result"
    }
   ],
   "source": [
    "newdata_copy"
   ]
  },
  {
   "cell_type": "code",
   "execution_count": 110,
   "id": "ad67f6ce",
   "metadata": {},
   "outputs": [
    {
     "data": {
      "text/plain": [
       "<Axes: >"
      ]
     },
     "execution_count": 110,
     "metadata": {},
     "output_type": "execute_result"
    },
    {
     "data": {
      "image/png": "[encoded data removed]",
      "text/plain": [
       "<Figure size 640x480 with 1 Axes>"
      ]
     },
     "metadata": {},
     "output_type": "display_data"
    }
   ],
   "source": [
    "sns.boxplot(newdata_copy)"
   ]
  },
  {
   "cell_type": "code",
   "execution_count": 111,
   "id": "d118ba8e",
   "metadata": {},
   "outputs": [
    {
     "data": {
      "text/plain": [
       "[65, 27, 27, 25, 54, 70, 24, 49, 41, 53]"
      ]
     },
     "execution_count": 111,
     "metadata": {},
     "output_type": "execute_result"
    }
   ],
   "source": [
    "data"
   ]
  },
  {
   "cell_type": "code",
   "execution_count": 113,
   "id": "92e4fe39",
   "metadata": {},
   "outputs": [
    {
     "data": {
      "text/plain": [
       "[24, 25, 27, 27, 41, 49, 53, 54, 65, 70, 200]"
      ]
     },
     "execution_count": 113,
     "metadata": {},
     "output_type": "execute_result"
    }
   ],
   "source": [
    "data_copy"
   ]
  },
  {
   "cell_type": "code",
   "execution_count": 117,
   "id": "21941464",
   "metadata": {},
   "outputs": [],
   "source": [
    "data_copy=data.copy()\n"
   ]
  },
  {
   "cell_type": "code",
   "execution_count": 118,
   "id": "c8754912",
   "metadata": {},
   "outputs": [
    {
     "data": {
      "text/plain": [
       "[65, 27, 27, 25, 54, 70, 24, 49, 41, 53]"
      ]
     },
     "execution_count": 118,
     "metadata": {},
     "output_type": "execute_result"
    }
   ],
   "source": [
    "data_copy"
   ]
  },
  {
   "cell_type": "code",
   "execution_count": 123,
   "id": "6d2e443a",
   "metadata": {},
   "outputs": [],
   "source": [
    "data_copy.sort()"
   ]
  },
  {
   "cell_type": "code",
   "execution_count": 124,
   "id": "a2574aa3",
   "metadata": {},
   "outputs": [
    {
     "data": {
      "text/plain": [
       "[24, 25, 27, 27, 41, 49, 53, 54, 65, 70]"
      ]
     },
     "execution_count": 124,
     "metadata": {},
     "output_type": "execute_result"
    }
   ],
   "source": [
    "data_copy"
   ]
  },
  {
   "cell_type": "code",
   "execution_count": 125,
   "id": "af35fa18",
   "metadata": {},
   "outputs": [
    {
     "data": {
      "text/plain": [
       "266.85"
      ]
     },
     "execution_count": 125,
     "metadata": {},
     "output_type": "execute_result"
    }
   ],
   "source": [
    "np.var(data_copy)"
   ]
  },
  {
   "cell_type": "code",
   "execution_count": 126,
   "id": "6550529c",
   "metadata": {},
   "outputs": [
    {
     "data": {
      "text/plain": [
       "16.33554406807438"
      ]
     },
     "execution_count": 126,
     "metadata": {},
     "output_type": "execute_result"
    }
   ],
   "source": [
    "np.std(data_copy)"
   ]
  },
  {
   "cell_type": "code",
   "execution_count": 127,
   "id": "508148c3",
   "metadata": {},
   "outputs": [
    {
     "data": {
      "text/plain": [
       "296.5"
      ]
     },
     "execution_count": 127,
     "metadata": {},
     "output_type": "execute_result"
    }
   ],
   "source": [
    "statistics.variance(data_copy)"
   ]
  },
  {
   "cell_type": "code",
   "execution_count": 169,
   "id": "dfc09349",
   "metadata": {},
   "outputs": [],
   "source": [
    "# calculate variance of population\n",
    "def cal_variance(data):\n",
    "   \n",
    "    #mean of the data \n",
    "    n=len(data)\n",
    "    mean=sum(data)/n\n",
    "    \n",
    "    ## calculate the deviation\n",
    "    deviation=[(x-mean)**2 for x in data]\n",
    "    \n",
    "    #calculate the variance\n",
    "    variance=sum(deviation)/n\n",
    "    return variance\n",
    "    \n",
    "    \n"
   ]
  },
  {
   "cell_type": "code",
   "execution_count": 170,
   "id": "6b4a06f2",
   "metadata": {},
   "outputs": [
    {
     "data": {
      "text/plain": [
       "266.85"
      ]
     },
     "execution_count": 170,
     "metadata": {},
     "output_type": "execute_result"
    }
   ],
   "source": [
    "cal_variance(data_copy)"
   ]
  },
  {
   "cell_type": "code",
   "execution_count": 171,
   "id": "3dd6fcae",
   "metadata": {},
   "outputs": [
    {
     "data": {
      "text/plain": [
       "266.85"
      ]
     },
     "execution_count": 171,
     "metadata": {},
     "output_type": "execute_result"
    }
   ],
   "source": [
    "np.var(data_copy)"
   ]
  },
  {
   "cell_type": "code",
   "execution_count": 178,
   "id": "d1b684cf",
   "metadata": {},
   "outputs": [
    {
     "data": {
      "text/plain": [
       "296.5"
      ]
     },
     "execution_count": 178,
     "metadata": {},
     "output_type": "execute_result"
    }
   ],
   "source": [
    "statistics.variance(data_copy)"
   ]
  },
  {
   "cell_type": "code",
   "execution_count": 206,
   "id": "4f1f7dff",
   "metadata": {},
   "outputs": [],
   "source": [
    "import math\n",
    "# calculate variance of sample population\n",
    "def cal_variance_sample(data):\n",
    "   \n",
    "    #mean of the data \n",
    "    n=len(data)\n",
    "    mean=sum(data)/n\n",
    "    \n",
    "    ## calculate the deviation\n",
    "    deviation=[(x-mean)**2 for x in data]\n",
    "  \n",
    "    #calculate the variance\n",
    "    variance=sum(deviation)/(n-1)\n",
    "    \n",
    "    #write the code for standard deviation std\n",
    "    std_deviation = math.sqrt(variance)\n",
    "    \n",
    "    # write the code for mad\n",
    "    mad=sum(deviation)/n\n",
    "    \n",
    "    print (\"standard deviation is\", std_deviation)\n",
    "    print (\"mad is\", mad)\n",
    "    return variance"
   ]
  },
  {
   "cell_type": "code",
   "execution_count": 207,
   "id": "9425c0a0",
   "metadata": {},
   "outputs": [
    {
     "name": "stdout",
     "output_type": "stream",
     "text": [
      "standard deviation is 17.219175357722563\n",
      "mad is 266.85\n"
     ]
    },
    {
     "data": {
      "text/plain": [
       "296.5"
      ]
     },
     "execution_count": 207,
     "metadata": {},
     "output_type": "execute_result"
    }
   ],
   "source": [
    "cal_variance_sample(data_copy)"
   ]
  },
  {
   "cell_type": "code",
   "execution_count": 208,
   "id": "c8c1abdb",
   "metadata": {
    "scrolled": true
   },
   "outputs": [
    {
     "data": {
      "text/html": [
       "<div>\n",
       "<style scoped>\n",
       "    .dataframe tbody tr th:only-of-type {\n",
       "        vertical-align: middle;\n",
       "    }\n",
       "\n",
       "    .dataframe tbody tr th {\n",
       "        vertical-align: top;\n",
       "    }\n",
       "\n",
       "    .dataframe thead th {\n",
       "        text-align: right;\n",
       "    }\n",
       "</style>\n",
       "<table border=\"1\" class=\"dataframe\">\n",
       "  <thead>\n",
       "    <tr style=\"text-align: right;\">\n",
       "      <th></th>\n",
       "      <th>sepal_length</th>\n",
       "      <th>sepal_width</th>\n",
       "      <th>petal_length</th>\n",
       "      <th>petal_width</th>\n",
       "      <th>species</th>\n",
       "    </tr>\n",
       "  </thead>\n",
       "  <tbody>\n",
       "    <tr>\n",
       "      <th>0</th>\n",
       "      <td>5.1</td>\n",
       "      <td>3.5</td>\n",
       "      <td>1.4</td>\n",
       "      <td>0.2</td>\n",
       "      <td>setosa</td>\n",
       "    </tr>\n",
       "    <tr>\n",
       "      <th>1</th>\n",
       "      <td>4.9</td>\n",
       "      <td>3.0</td>\n",
       "      <td>1.4</td>\n",
       "      <td>0.2</td>\n",
       "      <td>setosa</td>\n",
       "    </tr>\n",
       "    <tr>\n",
       "      <th>2</th>\n",
       "      <td>4.7</td>\n",
       "      <td>3.2</td>\n",
       "      <td>1.3</td>\n",
       "      <td>0.2</td>\n",
       "      <td>setosa</td>\n",
       "    </tr>\n",
       "    <tr>\n",
       "      <th>3</th>\n",
       "      <td>4.6</td>\n",
       "      <td>3.1</td>\n",
       "      <td>1.5</td>\n",
       "      <td>0.2</td>\n",
       "      <td>setosa</td>\n",
       "    </tr>\n",
       "    <tr>\n",
       "      <th>4</th>\n",
       "      <td>5.0</td>\n",
       "      <td>3.6</td>\n",
       "      <td>1.4</td>\n",
       "      <td>0.2</td>\n",
       "      <td>setosa</td>\n",
       "    </tr>\n",
       "  </tbody>\n",
       "</table>\n",
       "</div>"
      ],
      "text/plain": [
       "   sepal_length  sepal_width  petal_length  petal_width species\n",
       "0           5.1          3.5           1.4          0.2  setosa\n",
       "1           4.9          3.0           1.4          0.2  setosa\n",
       "2           4.7          3.2           1.3          0.2  setosa\n",
       "3           4.6          3.1           1.5          0.2  setosa\n",
       "4           5.0          3.6           1.4          0.2  setosa"
      ]
     },
     "execution_count": 208,
     "metadata": {},
     "output_type": "execute_result"
    }
   ],
   "source": [
    "data2.head()"
   ]
  },
  {
   "cell_type": "code",
   "execution_count": 218,
   "id": "f9719eb4",
   "metadata": {},
   "outputs": [
    {
     "data": {
      "text/html": [
       "<div>\n",
       "<style scoped>\n",
       "    .dataframe tbody tr th:only-of-type {\n",
       "        vertical-align: middle;\n",
       "    }\n",
       "\n",
       "    .dataframe tbody tr th {\n",
       "        vertical-align: top;\n",
       "    }\n",
       "\n",
       "    .dataframe thead th {\n",
       "        text-align: right;\n",
       "    }\n",
       "</style>\n",
       "<table border=\"1\" class=\"dataframe\">\n",
       "  <thead>\n",
       "    <tr style=\"text-align: right;\">\n",
       "      <th></th>\n",
       "      <th>sepal_length</th>\n",
       "      <th>sepal_width</th>\n",
       "      <th>petal_length</th>\n",
       "      <th>petal_width</th>\n",
       "    </tr>\n",
       "  </thead>\n",
       "  <tbody>\n",
       "    <tr>\n",
       "      <th>0</th>\n",
       "      <td>5.1</td>\n",
       "      <td>3.5</td>\n",
       "      <td>1.4</td>\n",
       "      <td>0.2</td>\n",
       "    </tr>\n",
       "    <tr>\n",
       "      <th>1</th>\n",
       "      <td>4.9</td>\n",
       "      <td>3.0</td>\n",
       "      <td>1.4</td>\n",
       "      <td>0.2</td>\n",
       "    </tr>\n",
       "    <tr>\n",
       "      <th>2</th>\n",
       "      <td>4.7</td>\n",
       "      <td>3.2</td>\n",
       "      <td>1.3</td>\n",
       "      <td>0.2</td>\n",
       "    </tr>\n",
       "    <tr>\n",
       "      <th>3</th>\n",
       "      <td>4.6</td>\n",
       "      <td>3.1</td>\n",
       "      <td>1.5</td>\n",
       "      <td>0.2</td>\n",
       "    </tr>\n",
       "    <tr>\n",
       "      <th>4</th>\n",
       "      <td>5.0</td>\n",
       "      <td>3.6</td>\n",
       "      <td>1.4</td>\n",
       "      <td>0.2</td>\n",
       "    </tr>\n",
       "  </tbody>\n",
       "</table>\n",
       "</div>"
      ],
      "text/plain": [
       "   sepal_length  sepal_width  petal_length  petal_width\n",
       "0           5.1          3.5           1.4          0.2\n",
       "1           4.9          3.0           1.4          0.2\n",
       "2           4.7          3.2           1.3          0.2\n",
       "3           4.6          3.1           1.5          0.2\n",
       "4           5.0          3.6           1.4          0.2"
      ]
     },
     "execution_count": 218,
     "metadata": {},
     "output_type": "execute_result"
    }
   ],
   "source": [
    "data2.head()"
   ]
  },
  {
   "cell_type": "code",
   "execution_count": 221,
   "id": "09b0ac86",
   "metadata": {},
   "outputs": [
    {
     "data": {
      "text/plain": [
       "array([[ 0.68569351, -0.03926846,  1.27368233,  0.5169038 ],\n",
       "       [-0.03926846,  0.18800403, -0.32171275, -0.11798121],\n",
       "       [ 1.27368233, -0.32171275,  3.11317942,  1.29638747],\n",
       "       [ 0.5169038 , -0.11798121,  1.29638747,  0.58241432]])"
      ]
     },
     "execution_count": 221,
     "metadata": {},
     "output_type": "execute_result"
    }
   ],
   "source": [
    "np.cov(data2.T)"
   ]
  },
  {
   "cell_type": "code",
   "execution_count": 222,
   "id": "406d715b",
   "metadata": {
    "scrolled": true
   },
   "outputs": [
    {
     "data": {
      "text/html": [
       "<div>\n",
       "<style scoped>\n",
       "    .dataframe tbody tr th:only-of-type {\n",
       "        vertical-align: middle;\n",
       "    }\n",
       "\n",
       "    .dataframe tbody tr th {\n",
       "        vertical-align: top;\n",
       "    }\n",
       "\n",
       "    .dataframe thead th {\n",
       "        text-align: right;\n",
       "    }\n",
       "</style>\n",
       "<table border=\"1\" class=\"dataframe\">\n",
       "  <thead>\n",
       "    <tr style=\"text-align: right;\">\n",
       "      <th></th>\n",
       "      <th>sepal_length</th>\n",
       "      <th>sepal_width</th>\n",
       "      <th>petal_length</th>\n",
       "      <th>petal_width</th>\n",
       "    </tr>\n",
       "  </thead>\n",
       "  <tbody>\n",
       "    <tr>\n",
       "      <th>sepal_length</th>\n",
       "      <td>0.685694</td>\n",
       "      <td>-0.039268</td>\n",
       "      <td>1.273682</td>\n",
       "      <td>0.516904</td>\n",
       "    </tr>\n",
       "    <tr>\n",
       "      <th>sepal_width</th>\n",
       "      <td>-0.039268</td>\n",
       "      <td>0.188004</td>\n",
       "      <td>-0.321713</td>\n",
       "      <td>-0.117981</td>\n",
       "    </tr>\n",
       "    <tr>\n",
       "      <th>petal_length</th>\n",
       "      <td>1.273682</td>\n",
       "      <td>-0.321713</td>\n",
       "      <td>3.113179</td>\n",
       "      <td>1.296387</td>\n",
       "    </tr>\n",
       "    <tr>\n",
       "      <th>petal_width</th>\n",
       "      <td>0.516904</td>\n",
       "      <td>-0.117981</td>\n",
       "      <td>1.296387</td>\n",
       "      <td>0.582414</td>\n",
       "    </tr>\n",
       "  </tbody>\n",
       "</table>\n",
       "</div>"
      ],
      "text/plain": [
       "              sepal_length  sepal_width  petal_length  petal_width\n",
       "sepal_length      0.685694    -0.039268      1.273682     0.516904\n",
       "sepal_width      -0.039268     0.188004     -0.321713    -0.117981\n",
       "petal_length      1.273682    -0.321713      3.113179     1.296387\n",
       "petal_width       0.516904    -0.117981      1.296387     0.582414"
      ]
     },
     "execution_count": 222,
     "metadata": {},
     "output_type": "execute_result"
    }
   ],
   "source": [
    "data2.cov()"
   ]
  },
  {
   "cell_type": "code",
   "execution_count": 223,
   "id": "0cdf4e8d",
   "metadata": {},
   "outputs": [
    {
     "data": {
      "text/html": [
       "<div>\n",
       "<style scoped>\n",
       "    .dataframe tbody tr th:only-of-type {\n",
       "        vertical-align: middle;\n",
       "    }\n",
       "\n",
       "    .dataframe tbody tr th {\n",
       "        vertical-align: top;\n",
       "    }\n",
       "\n",
       "    .dataframe thead th {\n",
       "        text-align: right;\n",
       "    }\n",
       "</style>\n",
       "<table border=\"1\" class=\"dataframe\">\n",
       "  <thead>\n",
       "    <tr style=\"text-align: right;\">\n",
       "      <th></th>\n",
       "      <th>sepal_length</th>\n",
       "      <th>sepal_width</th>\n",
       "      <th>petal_length</th>\n",
       "      <th>petal_width</th>\n",
       "    </tr>\n",
       "  </thead>\n",
       "  <tbody>\n",
       "    <tr>\n",
       "      <th>sepal_length</th>\n",
       "      <td>1.000000</td>\n",
       "      <td>-0.109369</td>\n",
       "      <td>0.871754</td>\n",
       "      <td>0.817954</td>\n",
       "    </tr>\n",
       "    <tr>\n",
       "      <th>sepal_width</th>\n",
       "      <td>-0.109369</td>\n",
       "      <td>1.000000</td>\n",
       "      <td>-0.420516</td>\n",
       "      <td>-0.356544</td>\n",
       "    </tr>\n",
       "    <tr>\n",
       "      <th>petal_length</th>\n",
       "      <td>0.871754</td>\n",
       "      <td>-0.420516</td>\n",
       "      <td>1.000000</td>\n",
       "      <td>0.962757</td>\n",
       "    </tr>\n",
       "    <tr>\n",
       "      <th>petal_width</th>\n",
       "      <td>0.817954</td>\n",
       "      <td>-0.356544</td>\n",
       "      <td>0.962757</td>\n",
       "      <td>1.000000</td>\n",
       "    </tr>\n",
       "  </tbody>\n",
       "</table>\n",
       "</div>"
      ],
      "text/plain": [
       "              sepal_length  sepal_width  petal_length  petal_width\n",
       "sepal_length      1.000000    -0.109369      0.871754     0.817954\n",
       "sepal_width      -0.109369     1.000000     -0.420516    -0.356544\n",
       "petal_length      0.871754    -0.420516      1.000000     0.962757\n",
       "petal_width       0.817954    -0.356544      0.962757     1.000000"
      ]
     },
     "execution_count": 223,
     "metadata": {},
     "output_type": "execute_result"
    }
   ],
   "source": [
    "data2.corr()"
   ]
  },
  {
   "cell_type": "code",
   "execution_count": 224,
   "id": "90445d55",
   "metadata": {
    "scrolled": true
   },
   "outputs": [
    {
     "data": {
      "text/plain": [
       "<Axes: xlabel='petal_width', ylabel='petal_length'>"
      ]
     },
     "execution_count": 224,
     "metadata": {},
     "output_type": "execute_result"
    },
    {
     "data": {
      "image/png": "[encoded data removed]",
      "text/plain": [
       "<Figure size 640x480 with 1 Axes>"
      ]
     },
     "metadata": {},
     "output_type": "display_data"
    }
   ],
   "source": [
    "sns.scatterplot(x=data2[\"petal_width\"],y=data2[\"petal_length\"])"
   ]
  },
  {
   "cell_type": "code",
   "execution_count": 225,
   "id": "cc6a0f24",
   "metadata": {},
   "outputs": [
    {
     "data": {
      "text/plain": [
       "<Axes: xlabel='sepal_width', ylabel='sepal_length'>"
      ]
     },
     "execution_count": 225,
     "metadata": {},
     "output_type": "execute_result"
    },
    {
     "data": {
      "image/png": "[encoded data removed]",
      "text/plain": [
       "<Figure size 640x480 with 1 Axes>"
      ]
     },
     "metadata": {},
     "output_type": "display_data"
    }
   ],
   "source": [
    "sns.scatterplot(x=data2[\"sepal_width\"],y=data2[\"sepal_length\"])"
   ]
  },
  {
   "cell_type": "code",
   "execution_count": null,
   "id": "7d88edbd",
   "metadata": {},
   "outputs": [],
   "source": []
  }
 ],
 "metadata": {
  "kernelspec": {
   "display_name": "Python 3 (ipykernel)",
   "language": "python",
   "name": "python3"
  },
  "language_info": {
   "codemirror_mode": {
    "name": "ipython",
    "version": 3
   },
   "file_extension": ".py",
   "mimetype": "text/x-python",
   "name": "python",
   "nbconvert_exporter": "python",
   "pygments_lexer": "ipython3",
   "version": "3.11.4"
  }
 },
 "nbformat": 4,
 "nbformat_minor": 5
}
